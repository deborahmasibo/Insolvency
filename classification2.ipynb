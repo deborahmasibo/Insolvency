{
 "cells": [
  {
   "cell_type": "code",
   "execution_count": 2,
   "metadata": {},
   "outputs": [],
   "source": [
    "# Imports\n",
    "import numpy as np\n",
    "import pandas as pd\n",
    "import seaborn as sns\n",
    "import matplotlib.pyplot as plt\n",
    "import plotly.express as px\n",
    "from sklearn.decomposition import PCA\n",
    "from sklearn.preprocessing import StandardScaler\n",
    "from sklearn.model_selection import train_test_split, RandomizedSearchCV\n",
    "from sklearn.metrics import confusion_matrix, f1_score, silhouette_score\n",
    "from sklearn.metrics import precision_score, classification_report, ConfusionMatrixDisplay\n",
    "from sklearn.ensemble import RandomForestClassifier\n",
    "from warnings import filterwarnings\n",
    "filterwarnings('ignore')\n",
    "np.set_printoptions(suppress=True)"
   ]
  },
  {
   "cell_type": "code",
   "execution_count": 8,
   "metadata": {},
   "outputs": [
    {
     "data": {
      "text/html": [
       "<div>\n",
       "<style scoped>\n",
       "    .dataframe tbody tr th:only-of-type {\n",
       "        vertical-align: middle;\n",
       "    }\n",
       "\n",
       "    .dataframe tbody tr th {\n",
       "        vertical-align: top;\n",
       "    }\n",
       "\n",
       "    .dataframe thead th {\n",
       "        text-align: right;\n",
       "    }\n",
       "</style>\n",
       "<table border=\"1\" class=\"dataframe\">\n",
       "  <thead>\n",
       "    <tr style=\"text-align: right;\">\n",
       "      <th></th>\n",
       "      <th>Net profit before tax/Paid-in capital</th>\n",
       "      <th>ROA(C) before interest and depreciation before interest</th>\n",
       "      <th>Liability to Equity</th>\n",
       "      <th>Current Liabilities/Equity</th>\n",
       "      <th>Borrowing dependency</th>\n",
       "      <th>Current Liability to Equity</th>\n",
       "      <th>ROA(B) before interest and depreciation after tax</th>\n",
       "      <th>Persistent EPS in the Last Four Seasons</th>\n",
       "      <th>Inventory and accounts receivable/Net value</th>\n",
       "      <th>ROA(A) before interest and % after tax</th>\n",
       "      <th>Clusters</th>\n",
       "    </tr>\n",
       "  </thead>\n",
       "  <tbody>\n",
       "    <tr>\n",
       "      <th>0</th>\n",
       "      <td>0.137757</td>\n",
       "      <td>0.370594</td>\n",
       "      <td>0.290202</td>\n",
       "      <td>0.339077</td>\n",
       "      <td>0.390284</td>\n",
       "      <td>0.339077</td>\n",
       "      <td>0.405750</td>\n",
       "      <td>0.169141</td>\n",
       "      <td>0.398036</td>\n",
       "      <td>0.424389</td>\n",
       "      <td>1</td>\n",
       "    </tr>\n",
       "    <tr>\n",
       "      <th>1</th>\n",
       "      <td>0.168962</td>\n",
       "      <td>0.464291</td>\n",
       "      <td>0.283846</td>\n",
       "      <td>0.329740</td>\n",
       "      <td>0.376760</td>\n",
       "      <td>0.329740</td>\n",
       "      <td>0.516730</td>\n",
       "      <td>0.208944</td>\n",
       "      <td>0.397725</td>\n",
       "      <td>0.538214</td>\n",
       "      <td>1</td>\n",
       "    </tr>\n",
       "    <tr>\n",
       "      <th>2</th>\n",
       "      <td>0.148036</td>\n",
       "      <td>0.426071</td>\n",
       "      <td>0.290189</td>\n",
       "      <td>0.334777</td>\n",
       "      <td>0.379093</td>\n",
       "      <td>0.334777</td>\n",
       "      <td>0.472295</td>\n",
       "      <td>0.180581</td>\n",
       "      <td>0.406580</td>\n",
       "      <td>0.499019</td>\n",
       "      <td>1</td>\n",
       "    </tr>\n",
       "    <tr>\n",
       "      <th>3</th>\n",
       "      <td>0.147561</td>\n",
       "      <td>0.399844</td>\n",
       "      <td>0.281721</td>\n",
       "      <td>0.331509</td>\n",
       "      <td>0.379743</td>\n",
       "      <td>0.331509</td>\n",
       "      <td>0.457733</td>\n",
       "      <td>0.193722</td>\n",
       "      <td>0.397925</td>\n",
       "      <td>0.451265</td>\n",
       "      <td>1</td>\n",
       "    </tr>\n",
       "    <tr>\n",
       "      <th>4</th>\n",
       "      <td>0.167461</td>\n",
       "      <td>0.465022</td>\n",
       "      <td>0.278514</td>\n",
       "      <td>0.330726</td>\n",
       "      <td>0.375025</td>\n",
       "      <td>0.330726</td>\n",
       "      <td>0.522298</td>\n",
       "      <td>0.212537</td>\n",
       "      <td>0.400079</td>\n",
       "      <td>0.538432</td>\n",
       "      <td>1</td>\n",
       "    </tr>\n",
       "  </tbody>\n",
       "</table>\n",
       "</div>"
      ],
      "text/plain": [
       "   Net profit before tax/Paid-in capital  \\\n",
       "0                               0.137757   \n",
       "1                               0.168962   \n",
       "2                               0.148036   \n",
       "3                               0.147561   \n",
       "4                               0.167461   \n",
       "\n",
       "   ROA(C) before interest and depreciation before interest  \\\n",
       "0                                           0.370594         \n",
       "1                                           0.464291         \n",
       "2                                           0.426071         \n",
       "3                                           0.399844         \n",
       "4                                           0.465022         \n",
       "\n",
       "   Liability to Equity  Current Liabilities/Equity  Borrowing dependency  \\\n",
       "0             0.290202                    0.339077              0.390284   \n",
       "1             0.283846                    0.329740              0.376760   \n",
       "2             0.290189                    0.334777              0.379093   \n",
       "3             0.281721                    0.331509              0.379743   \n",
       "4             0.278514                    0.330726              0.375025   \n",
       "\n",
       "   Current Liability to Equity  \\\n",
       "0                     0.339077   \n",
       "1                     0.329740   \n",
       "2                     0.334777   \n",
       "3                     0.331509   \n",
       "4                     0.330726   \n",
       "\n",
       "   ROA(B) before interest and depreciation after tax  \\\n",
       "0                                           0.405750   \n",
       "1                                           0.516730   \n",
       "2                                           0.472295   \n",
       "3                                           0.457733   \n",
       "4                                           0.522298   \n",
       "\n",
       "   Persistent EPS in the Last Four Seasons  \\\n",
       "0                                 0.169141   \n",
       "1                                 0.208944   \n",
       "2                                 0.180581   \n",
       "3                                 0.193722   \n",
       "4                                 0.212537   \n",
       "\n",
       "   Inventory and accounts receivable/Net value  \\\n",
       "0                                     0.398036   \n",
       "1                                     0.397725   \n",
       "2                                     0.406580   \n",
       "3                                     0.397925   \n",
       "4                                     0.400079   \n",
       "\n",
       "   ROA(A) before interest and % after tax  Clusters  \n",
       "0                                0.424389         1  \n",
       "1                                0.538214         1  \n",
       "2                                0.499019         1  \n",
       "3                                0.451265         1  \n",
       "4                                0.538432         1  "
      ]
     },
     "execution_count": 8,
     "metadata": {},
     "output_type": "execute_result"
    }
   ],
   "source": [
    "# Dataset loading\n",
    "class_data = pd.read_csv('target.csv', index_col = 0)\n"
   ]
  },
  {
   "cell_type": "code",
   "execution_count": 13,
   "metadata": {},
   "outputs": [],
   "source": [
    "# Random Forest Classification Model\n",
    "def prediction(pred, data):\n",
    "  # Features and label\n",
    "  X = data.drop('Clusters', axis = 1).values\n",
    "  y = data.iloc[:,-1].values.reshape(-1,1)\n",
    "  data.head()\n",
    "  # Training and test sets\n",
    "  X_train, X_test, y_train, y_test = train_test_split(X,y, test_size = 0.2)\n",
    "  # Standard scaling\n",
    "  sc = StandardScaler()\n",
    "  X_train = sc.fit_transform(X_train)\n",
    "  X_test = sc.transform(pred)\n",
    "  # Model training\n",
    "  classifier = RandomForestClassifier()\n",
    "  classifier.fit(X_train, y_train)\n",
    "\n",
    "  # Predicting the test set results\n",
    "  y_pred = classifier.predict(pred)\n",
    "  return y_pred\n",
    "\n"
   ]
  },
  {
   "cell_type": "code",
   "execution_count": 15,
   "metadata": {},
   "outputs": [
    {
     "data": {
      "text/plain": [
       "array([1], dtype=int64)"
      ]
     },
     "execution_count": 15,
     "metadata": {},
     "output_type": "execute_result"
    }
   ],
   "source": [
    "prediction([[0.137757, 0.370594, 0.290202, 0.339077, 0.390284, 0.339077, 0.405750, 0.169141, 0.398036, 0.424389]], data = class_data)"
   ]
  },
  {
   "cell_type": "code",
   "execution_count": 16,
   "metadata": {},
   "outputs": [],
   "source": [
    "X = class_data.drop('Clusters', axis = 1).values\n",
    "y = class_data.iloc[:,-1].values.reshape(-1,1)\n",
    "X_train, X_test, y_train, y_test = train_test_split(X,y, test_size = 0.2, random_state = 0)"
   ]
  },
  {
   "cell_type": "code",
   "execution_count": 23,
   "metadata": {},
   "outputs": [
    {
     "data": {
      "text/plain": [
       "(1364, 10)"
      ]
     },
     "execution_count": 23,
     "metadata": {},
     "output_type": "execute_result"
    }
   ],
   "source": [
    "X_test.shape"
   ]
  },
  {
   "cell_type": "code",
   "execution_count": 26,
   "metadata": {},
   "outputs": [],
   "source": [
    "cols = class_data.drop('Clusters', axis = 1).columns\n",
    "test = pd.DataFrame(X_test, columns = list(class_data.iloc[:, :-1].columns))\n",
    "test.to_csv('test.csv')"
   ]
  },
  {
   "cell_type": "code",
   "execution_count": 25,
   "metadata": {},
   "outputs": [
    {
     "data": {
      "text/html": [
       "<div>\n",
       "<style scoped>\n",
       "    .dataframe tbody tr th:only-of-type {\n",
       "        vertical-align: middle;\n",
       "    }\n",
       "\n",
       "    .dataframe tbody tr th {\n",
       "        vertical-align: top;\n",
       "    }\n",
       "\n",
       "    .dataframe thead th {\n",
       "        text-align: right;\n",
       "    }\n",
       "</style>\n",
       "<table border=\"1\" class=\"dataframe\">\n",
       "  <thead>\n",
       "    <tr style=\"text-align: right;\">\n",
       "      <th></th>\n",
       "      <th>Net profit before tax/Paid-in capital</th>\n",
       "      <th>ROA(C) before interest and depreciation before interest</th>\n",
       "      <th>Liability to Equity</th>\n",
       "      <th>Current Liabilities/Equity</th>\n",
       "      <th>Borrowing dependency</th>\n",
       "      <th>Current Liability to Equity</th>\n",
       "      <th>ROA(B) before interest and depreciation after tax</th>\n",
       "      <th>Persistent EPS in the Last Four Seasons</th>\n",
       "      <th>Inventory and accounts receivable/Net value</th>\n",
       "      <th>ROA(A) before interest and % after tax</th>\n",
       "    </tr>\n",
       "  </thead>\n",
       "  <tbody>\n",
       "    <tr>\n",
       "      <th>0</th>\n",
       "      <td>0.176985</td>\n",
       "      <td>0.508166</td>\n",
       "      <td>0.275420</td>\n",
       "      <td>0.326996</td>\n",
       "      <td>0.369637</td>\n",
       "      <td>0.326996</td>\n",
       "      <td>0.554794</td>\n",
       "      <td>0.222180</td>\n",
       "      <td>0.394729</td>\n",
       "      <td>0.569123</td>\n",
       "    </tr>\n",
       "    <tr>\n",
       "      <th>1</th>\n",
       "      <td>0.173758</td>\n",
       "      <td>0.493882</td>\n",
       "      <td>0.279644</td>\n",
       "      <td>0.331480</td>\n",
       "      <td>0.373669</td>\n",
       "      <td>0.331480</td>\n",
       "      <td>0.544515</td>\n",
       "      <td>0.221046</td>\n",
       "      <td>0.403226</td>\n",
       "      <td>0.551515</td>\n",
       "    </tr>\n",
       "    <tr>\n",
       "      <th>2</th>\n",
       "      <td>0.281985</td>\n",
       "      <td>0.560084</td>\n",
       "      <td>0.284399</td>\n",
       "      <td>0.330168</td>\n",
       "      <td>0.377213</td>\n",
       "      <td>0.330168</td>\n",
       "      <td>0.608437</td>\n",
       "      <td>0.342441</td>\n",
       "      <td>0.401717</td>\n",
       "      <td>0.614479</td>\n",
       "    </tr>\n",
       "    <tr>\n",
       "      <th>3</th>\n",
       "      <td>0.228067</td>\n",
       "      <td>0.549505</td>\n",
       "      <td>0.276319</td>\n",
       "      <td>0.327053</td>\n",
       "      <td>0.371167</td>\n",
       "      <td>0.327053</td>\n",
       "      <td>0.603833</td>\n",
       "      <td>0.280893</td>\n",
       "      <td>0.394981</td>\n",
       "      <td>0.625000</td>\n",
       "    </tr>\n",
       "    <tr>\n",
       "      <th>4</th>\n",
       "      <td>0.178305</td>\n",
       "      <td>0.492029</td>\n",
       "      <td>0.279178</td>\n",
       "      <td>0.329116</td>\n",
       "      <td>0.375497</td>\n",
       "      <td>0.329116</td>\n",
       "      <td>0.548477</td>\n",
       "      <td>0.222937</td>\n",
       "      <td>0.397982</td>\n",
       "      <td>0.565253</td>\n",
       "    </tr>\n",
       "  </tbody>\n",
       "</table>\n",
       "</div>"
      ],
      "text/plain": [
       "   Net profit before tax/Paid-in capital  \\\n",
       "0                               0.176985   \n",
       "1                               0.173758   \n",
       "2                               0.281985   \n",
       "3                               0.228067   \n",
       "4                               0.178305   \n",
       "\n",
       "   ROA(C) before interest and depreciation before interest  \\\n",
       "0                                           0.508166         \n",
       "1                                           0.493882         \n",
       "2                                           0.560084         \n",
       "3                                           0.549505         \n",
       "4                                           0.492029         \n",
       "\n",
       "   Liability to Equity  Current Liabilities/Equity  Borrowing dependency  \\\n",
       "0             0.275420                    0.326996              0.369637   \n",
       "1             0.279644                    0.331480              0.373669   \n",
       "2             0.284399                    0.330168              0.377213   \n",
       "3             0.276319                    0.327053              0.371167   \n",
       "4             0.279178                    0.329116              0.375497   \n",
       "\n",
       "   Current Liability to Equity  \\\n",
       "0                     0.326996   \n",
       "1                     0.331480   \n",
       "2                     0.330168   \n",
       "3                     0.327053   \n",
       "4                     0.329116   \n",
       "\n",
       "   ROA(B) before interest and depreciation after tax  \\\n",
       "0                                           0.554794   \n",
       "1                                           0.544515   \n",
       "2                                           0.608437   \n",
       "3                                           0.603833   \n",
       "4                                           0.548477   \n",
       "\n",
       "   Persistent EPS in the Last Four Seasons  \\\n",
       "0                                 0.222180   \n",
       "1                                 0.221046   \n",
       "2                                 0.342441   \n",
       "3                                 0.280893   \n",
       "4                                 0.222937   \n",
       "\n",
       "   Inventory and accounts receivable/Net value  \\\n",
       "0                                     0.394729   \n",
       "1                                     0.403226   \n",
       "2                                     0.401717   \n",
       "3                                     0.394981   \n",
       "4                                     0.397982   \n",
       "\n",
       "   ROA(A) before interest and % after tax  \n",
       "0                                0.569123  \n",
       "1                                0.551515  \n",
       "2                                0.614479  \n",
       "3                                0.625000  \n",
       "4                                0.565253  "
      ]
     },
     "execution_count": 25,
     "metadata": {},
     "output_type": "execute_result"
    }
   ],
   "source": [
    "test.head()"
   ]
  },
  {
   "cell_type": "code",
   "execution_count": 28,
   "metadata": {},
   "outputs": [
    {
     "data": {
      "text/plain": [
       "(5455, 10)"
      ]
     },
     "execution_count": 28,
     "metadata": {},
     "output_type": "execute_result"
    }
   ],
   "source": [
    "X_train.shape"
   ]
  },
  {
   "cell_type": "code",
   "execution_count": 29,
   "metadata": {},
   "outputs": [
    {
     "data": {
      "text/plain": [
       "(1364, 10)"
      ]
     },
     "execution_count": 29,
     "metadata": {},
     "output_type": "execute_result"
    }
   ],
   "source": [
    "X_test.shape"
   ]
  }
 ],
 "metadata": {
  "kernelspec": {
   "display_name": "Python 3.8.10 ('insolvency': venv)",
   "language": "python",
   "name": "python3"
  },
  "language_info": {
   "codemirror_mode": {
    "name": "ipython",
    "version": 3
   },
   "file_extension": ".py",
   "mimetype": "text/x-python",
   "name": "python",
   "nbconvert_exporter": "python",
   "pygments_lexer": "ipython3",
   "version": "3.8.10"
  },
  "orig_nbformat": 4,
  "vscode": {
   "interpreter": {
    "hash": "5f078673f98e8461d049142b51b4f48e579e847208e1758cc4265c5a9d0a2004"
   }
  }
 },
 "nbformat": 4,
 "nbformat_minor": 2
}
